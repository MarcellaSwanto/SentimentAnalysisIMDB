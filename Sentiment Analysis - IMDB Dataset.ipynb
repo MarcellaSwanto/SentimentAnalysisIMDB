{
 "cells": [
  {
   "cell_type": "markdown",
   "metadata": {},
   "source": [
    "## Sentiment analysis - IMDB Movie Dataset"
   ]
  },
  {
   "cell_type": "markdown",
   "metadata": {},
   "source": [
    "### 50k movie reviews (Stanford dataset), 25k for training, 25k for testing"
   ]
  },
  {
   "cell_type": "code",
   "execution_count": 1,
   "metadata": {},
   "outputs": [],
   "source": [
    "import pandas as pd\n",
    "import numpy as np"
   ]
  },
  {
   "cell_type": "markdown",
   "metadata": {},
   "source": [
    "#### Importing the dataset: 25k reviews for train set, 25k for test set"
   ]
  },
  {
   "cell_type": "code",
   "execution_count": 2,
   "metadata": {
    "scrolled": true
   },
   "outputs": [
    {
     "name": "stderr",
     "output_type": "stream",
     "text": [
      "Cloning into 'IMDB-Movie-Reviews-Large-Dataset-50k'...\n"
     ]
    }
   ],
   "source": [
    "!git clone https://github.com/laxmimerit/IMDB-Movie-Reviews-Large-Dataset-50k.git"
   ]
  },
  {
   "cell_type": "code",
   "execution_count": 3,
   "metadata": {},
   "outputs": [],
   "source": [
    "df = pd.read_excel('D:\\imdb\\IMDB-Movie-Reviews-Large-Dataset-50k/train.xlsx')"
   ]
  },
  {
   "cell_type": "markdown",
   "metadata": {},
   "source": [
    "#### TF IDF"
   ]
  },
  {
   "cell_type": "code",
   "execution_count": 4,
   "metadata": {},
   "outputs": [],
   "source": [
    "from sklearn.feature_extraction.text import TfidfVectorizer"
   ]
  },
  {
   "cell_type": "code",
   "execution_count": 5,
   "metadata": {},
   "outputs": [],
   "source": [
    "from sklearn.model_selection import train_test_split"
   ]
  },
  {
   "cell_type": "code",
   "execution_count": 6,
   "metadata": {},
   "outputs": [],
   "source": [
    "from sklearn.svm import LinearSVC"
   ]
  },
  {
   "cell_type": "code",
   "execution_count": 7,
   "metadata": {},
   "outputs": [],
   "source": [
    "from sklearn.metrics import classification_report"
   ]
  },
  {
   "cell_type": "code",
   "execution_count": 8,
   "metadata": {},
   "outputs": [
    {
     "data": {
      "text/html": [
       "<div>\n",
       "<style scoped>\n",
       "    .dataframe tbody tr th:only-of-type {\n",
       "        vertical-align: middle;\n",
       "    }\n",
       "\n",
       "    .dataframe tbody tr th {\n",
       "        vertical-align: top;\n",
       "    }\n",
       "\n",
       "    .dataframe thead th {\n",
       "        text-align: right;\n",
       "    }\n",
       "</style>\n",
       "<table border=\"1\" class=\"dataframe\">\n",
       "  <thead>\n",
       "    <tr style=\"text-align: right;\">\n",
       "      <th></th>\n",
       "      <th>Reviews</th>\n",
       "      <th>Sentiment</th>\n",
       "    </tr>\n",
       "  </thead>\n",
       "  <tbody>\n",
       "    <tr>\n",
       "      <th>0</th>\n",
       "      <td>When I first tuned in on this morning news, I ...</td>\n",
       "      <td>neg</td>\n",
       "    </tr>\n",
       "    <tr>\n",
       "      <th>1</th>\n",
       "      <td>Mere thoughts of \"Going Overboard\" (aka \"Babes...</td>\n",
       "      <td>neg</td>\n",
       "    </tr>\n",
       "    <tr>\n",
       "      <th>2</th>\n",
       "      <td>Why does this movie fall WELL below standards?...</td>\n",
       "      <td>neg</td>\n",
       "    </tr>\n",
       "    <tr>\n",
       "      <th>3</th>\n",
       "      <td>Wow and I thought that any Steven Segal movie ...</td>\n",
       "      <td>neg</td>\n",
       "    </tr>\n",
       "    <tr>\n",
       "      <th>4</th>\n",
       "      <td>The story is seen before, but that does'n matt...</td>\n",
       "      <td>neg</td>\n",
       "    </tr>\n",
       "    <tr>\n",
       "      <th>...</th>\n",
       "      <td>...</td>\n",
       "      <td>...</td>\n",
       "    </tr>\n",
       "    <tr>\n",
       "      <th>24995</th>\n",
       "      <td>Everyone plays their part pretty well in this ...</td>\n",
       "      <td>pos</td>\n",
       "    </tr>\n",
       "    <tr>\n",
       "      <th>24996</th>\n",
       "      <td>It happened with Assault on Prescient 13 in 20...</td>\n",
       "      <td>neg</td>\n",
       "    </tr>\n",
       "    <tr>\n",
       "      <th>24997</th>\n",
       "      <td>My God. This movie was awful. I can't complain...</td>\n",
       "      <td>neg</td>\n",
       "    </tr>\n",
       "    <tr>\n",
       "      <th>24998</th>\n",
       "      <td>When I first popped in Happy Birthday to Me, I...</td>\n",
       "      <td>neg</td>\n",
       "    </tr>\n",
       "    <tr>\n",
       "      <th>24999</th>\n",
       "      <td>So why does this show suck? Unfortunately, tha...</td>\n",
       "      <td>neg</td>\n",
       "    </tr>\n",
       "  </tbody>\n",
       "</table>\n",
       "<p>25000 rows × 2 columns</p>\n",
       "</div>"
      ],
      "text/plain": [
       "                                                 Reviews Sentiment\n",
       "0      When I first tuned in on this morning news, I ...       neg\n",
       "1      Mere thoughts of \"Going Overboard\" (aka \"Babes...       neg\n",
       "2      Why does this movie fall WELL below standards?...       neg\n",
       "3      Wow and I thought that any Steven Segal movie ...       neg\n",
       "4      The story is seen before, but that does'n matt...       neg\n",
       "...                                                  ...       ...\n",
       "24995  Everyone plays their part pretty well in this ...       pos\n",
       "24996  It happened with Assault on Prescient 13 in 20...       neg\n",
       "24997  My God. This movie was awful. I can't complain...       neg\n",
       "24998  When I first popped in Happy Birthday to Me, I...       neg\n",
       "24999  So why does this show suck? Unfortunately, tha...       neg\n",
       "\n",
       "[25000 rows x 2 columns]"
      ]
     },
     "execution_count": 8,
     "metadata": {},
     "output_type": "execute_result"
    }
   ],
   "source": [
    "df"
   ]
  },
  {
   "cell_type": "code",
   "execution_count": 9,
   "metadata": {},
   "outputs": [],
   "source": [
    "tfidf = TfidfVectorizer(max_features=5000)\n",
    "X = df['Reviews']\n",
    "y = df['Sentiment']"
   ]
  },
  {
   "cell_type": "code",
   "execution_count": 10,
   "metadata": {},
   "outputs": [],
   "source": [
    "X = [str (item) for item in X]\n",
    "#X = [item for item in X if not isinstance(item, int)] #gives dimension inconsistency\n",
    "#Y = [item for item in Y if not isinstance(item, int)]"
   ]
  },
  {
   "cell_type": "code",
   "execution_count": 11,
   "metadata": {},
   "outputs": [],
   "source": [
    "X = tfidf.fit_transform(X)"
   ]
  },
  {
   "cell_type": "code",
   "execution_count": 12,
   "metadata": {},
   "outputs": [],
   "source": [
    "X_train, X_Test, y_train, y_test = train_test_split(X, y, test_size = 0.2, random_state=0) #20% of data"
   ]
  },
  {
   "cell_type": "markdown",
   "metadata": {},
   "source": [
    "#### Using LinearSVC"
   ]
  },
  {
   "cell_type": "code",
   "execution_count": 13,
   "metadata": {},
   "outputs": [
    {
     "data": {
      "text/plain": [
       "LinearSVC(C=1.0, class_weight=None, dual=True, fit_intercept=True,\n",
       "     intercept_scaling=1, loss='squared_hinge', max_iter=1000,\n",
       "     multi_class='ovr', penalty='l2', random_state=None, tol=0.0001,\n",
       "     verbose=0)"
      ]
     },
     "execution_count": 13,
     "metadata": {},
     "output_type": "execute_result"
    }
   ],
   "source": [
    "clf = LinearSVC()\n",
    "clf.fit(X_train, y_train)"
   ]
  },
  {
   "cell_type": "code",
   "execution_count": 14,
   "metadata": {},
   "outputs": [],
   "source": [
    "y_pred = clf.predict(X_Test)"
   ]
  },
  {
   "cell_type": "code",
   "execution_count": 15,
   "metadata": {},
   "outputs": [
    {
     "name": "stdout",
     "output_type": "stream",
     "text": [
      "              precision    recall  f1-score   support\n",
      "\n",
      "         neg       0.88      0.87      0.87      2480\n",
      "         pos       0.87      0.88      0.88      2520\n",
      "\n",
      "   micro avg       0.88      0.88      0.88      5000\n",
      "   macro avg       0.88      0.88      0.88      5000\n",
      "weighted avg       0.88      0.88      0.88      5000\n",
      "\n"
     ]
    }
   ],
   "source": [
    "print(classification_report(y_test, y_pred))"
   ]
  },
  {
   "cell_type": "markdown",
   "metadata": {},
   "source": [
    "#### Using KNN"
   ]
  },
  {
   "cell_type": "code",
   "execution_count": 16,
   "metadata": {},
   "outputs": [],
   "source": [
    "from sklearn.neighbors import KNeighborsClassifier"
   ]
  },
  {
   "cell_type": "code",
   "execution_count": 17,
   "metadata": {},
   "outputs": [],
   "source": [
    "model = KNeighborsClassifier(n_neighbors=2)"
   ]
  },
  {
   "cell_type": "code",
   "execution_count": 18,
   "metadata": {},
   "outputs": [
    {
     "data": {
      "text/plain": [
       "KNeighborsClassifier(algorithm='auto', leaf_size=30, metric='minkowski',\n",
       "           metric_params=None, n_jobs=None, n_neighbors=2, p=2,\n",
       "           weights='uniform')"
      ]
     },
     "execution_count": 18,
     "metadata": {},
     "output_type": "execute_result"
    }
   ],
   "source": [
    "model.fit(X_train, y_train) #Fitting model on entire dataset X"
   ]
  },
  {
   "cell_type": "code",
   "execution_count": 19,
   "metadata": {},
   "outputs": [],
   "source": [
    "y_pred = model.predict(X_Test) # Predicting"
   ]
  },
  {
   "cell_type": "markdown",
   "metadata": {},
   "source": [
    "#### Using Classification Report"
   ]
  },
  {
   "cell_type": "code",
   "execution_count": 20,
   "metadata": {
    "scrolled": false
   },
   "outputs": [
    {
     "name": "stdout",
     "output_type": "stream",
     "text": [
      "              precision    recall  f1-score   support\n",
      "\n",
      "         neg       0.64      0.87      0.74      2480\n",
      "         pos       0.80      0.52      0.63      2520\n",
      "\n",
      "   micro avg       0.69      0.69      0.69      5000\n",
      "   macro avg       0.72      0.70      0.69      5000\n",
      "weighted avg       0.72      0.69      0.68      5000\n",
      "\n"
     ]
    }
   ],
   "source": [
    "print(classification_report(y_test, y_pred))"
   ]
  },
  {
   "cell_type": "code",
   "execution_count": 21,
   "metadata": {},
   "outputs": [
    {
     "name": "stdout",
     "output_type": "stream",
     "text": [
      "              precision    recall  f1-score   support\n",
      "\n",
      "         neg       0.64      0.87      0.74      2480\n",
      "         pos       0.80      0.52      0.63      2520\n",
      "\n",
      "   micro avg       0.69      0.69      0.69      5000\n",
      "   macro avg       0.72      0.70      0.69      5000\n",
      "weighted avg       0.72      0.69      0.68      5000\n",
      "\n"
     ]
    }
   ],
   "source": [
    "print(classification_report(y_test, y_pred))"
   ]
  },
  {
   "cell_type": "code",
   "execution_count": 30,
   "metadata": {},
   "outputs": [
    {
     "data": {
      "text/plain": [
       "sklearn.neighbors.classification.KNeighborsClassifier"
      ]
     },
     "execution_count": 30,
     "metadata": {},
     "output_type": "execute_result"
    }
   ],
   "source": [
    "type(knn)"
   ]
  },
  {
   "cell_type": "code",
   "execution_count": 27,
   "metadata": {},
   "outputs": [
    {
     "name": "stdout",
     "output_type": "stream",
     "text": [
      "  (0, 4868)\t0.05423041129882411\n",
      "  (0, 1745)\t0.06339405963328505\n",
      "  (0, 2263)\t0.030261664719861657\n",
      "  (0, 3118)\t0.07871032898016846\n",
      "  (0, 4464)\t0.04430976776607877\n",
      "  (0, 2918)\t0.1516136835187389\n",
      "  (0, 3017)\t0.43881541966430443\n",
      "  (0, 4470)\t0.08457803469891066\n",
      "  (0, 4965)\t0.0692362402865143\n",
      "  (0, 1733)\t0.05234018999521293\n",
      "  (0, 4075)\t0.026231590853869075\n",
      "  (0, 1512)\t0.11920371272036422\n",
      "  (0, 2371)\t0.07491143966426714\n",
      "  (0, 4812)\t0.03859133750701771\n",
      "  (0, 4042)\t0.06562970976989543\n",
      "  (0, 227)\t0.06657728509259998\n",
      "  (0, 1793)\t0.053808910062194446\n",
      "  (0, 4844)\t0.06876591601427105\n",
      "  (0, 3137)\t0.07589059770155591\n",
      "  (0, 4059)\t0.04723007870917798\n",
      "  (0, 648)\t0.035728756628043756\n",
      "  (0, 4831)\t0.03273839599877334\n",
      "  (0, 2066)\t0.04210264423330741\n",
      "  (0, 4516)\t0.07141345144578885\n",
      "  (0, 1627)\t0.05204212382034786\n",
      "  :\t:\n",
      "  (24999, 2197)\t0.048826236404610035\n",
      "  (24999, 3569)\t0.06627237038081046\n",
      "  (24999, 4947)\t0.07617509744048445\n",
      "  (24999, 3502)\t0.057785336599493066\n",
      "  (24999, 4253)\t0.06512808914085395\n",
      "  (24999, 1689)\t0.072689231476347\n",
      "  (24999, 4406)\t0.055591149057034786\n",
      "  (24999, 1344)\t0.05598242327661132\n",
      "  (24999, 3072)\t0.1080726295444436\n",
      "  (24999, 3432)\t0.06125615926952426\n",
      "  (24999, 4720)\t0.059094014826677276\n",
      "  (24999, 742)\t0.08232562396386436\n",
      "  (24999, 328)\t0.0623095738596883\n",
      "  (24999, 3516)\t0.08119627025420033\n",
      "  (24999, 335)\t0.07691354947444891\n",
      "  (24999, 1048)\t0.07087464141069279\n",
      "  (24999, 1339)\t0.08053980027233179\n",
      "  (24999, 1246)\t0.07967601234379233\n",
      "  (24999, 3056)\t0.07599722385376503\n",
      "  (24999, 3404)\t0.07159326983780241\n",
      "  (24999, 4249)\t0.06740220575538136\n",
      "  (24999, 2198)\t0.06884228650878611\n",
      "  (24999, 4196)\t0.07025093359092109\n",
      "  (24999, 662)\t0.0733828093738205\n",
      "  (24999, 4511)\t0.08092945403603939\n"
     ]
    }
   ],
   "source": [
    "print(X)"
   ]
  }
 ],
 "metadata": {
  "kernelspec": {
   "display_name": "Python 3",
   "language": "python",
   "name": "python3"
  },
  "language_info": {
   "codemirror_mode": {
    "name": "ipython",
    "version": 3
   },
   "file_extension": ".py",
   "mimetype": "text/x-python",
   "name": "python",
   "nbconvert_exporter": "python",
   "pygments_lexer": "ipython3",
   "version": "3.7.2"
  }
 },
 "nbformat": 4,
 "nbformat_minor": 2
}
