{
 "cells": [
  {
   "cell_type": "markdown",
   "metadata": {},
   "source": [
    "## Sentiment analysis - IMDB Movie Dataset"
   ]
  },
  {
   "cell_type": "markdown",
   "metadata": {},
   "source": [
    "### 50k movie reviews (Stanford dataset), 25k for training, 25k for testing"
   ]
  },
  {
   "cell_type": "code",
   "execution_count": 1,
   "metadata": {},
   "outputs": [],
   "source": [
    "import pandas as pd\n",
    "import numpy as np"
   ]
  },
  {
   "cell_type": "markdown",
   "metadata": {},
   "source": [
    "#### Importing the dataset: 25k reviews for train set, 25k for test set"
   ]
  },
  {
   "cell_type": "code",
   "execution_count": 2,
   "metadata": {
    "scrolled": true
   },
   "outputs": [
    {
     "name": "stderr",
     "output_type": "stream",
     "text": [
      "fatal: destination path 'IMDB-Movie-Reviews-Large-Dataset-50k' already exists and is not an empty directory.\n"
     ]
    }
   ],
   "source": [
    "!git clone https://github.com/laxmimerit/IMDB-Movie-Reviews-Large-Dataset-50k.git"
   ]
  },
  {
   "cell_type": "code",
   "execution_count": 3,
   "metadata": {},
   "outputs": [],
   "source": [
    "df = pd.read_excel('D:\\imdb\\IMDB-Movie-Reviews-Large-Dataset-50k/train.xlsx')"
   ]
  },
  {
   "cell_type": "code",
   "execution_count": 51,
   "metadata": {},
   "outputs": [
    {
     "name": "stdout",
     "output_type": "stream",
     "text": [
      "Schema:\n",
      "\n",
      " Reviews      object\n",
      "Sentiment    object\n",
      "dtype: object\n",
      "Number of questions,columns= (25000, 2)\n"
     ]
    }
   ],
   "source": [
    "print(\"Schema:\\n\\n\",df.dtypes)\n",
    "print(\"Number of questions,columns=\",df.shape)"
   ]
  },
  {
   "cell_type": "markdown",
   "metadata": {},
   "source": [
    "##### [Slower version] can initialize count vectorizer first, then get tfidf matrix from it (.fit)"
   ]
  },
  {
   "cell_type": "code",
   "execution_count": 52,
   "metadata": {},
   "outputs": [],
   "source": [
    "from sklearn.feature_extraction.text import CountVectorizer"
   ]
  },
  {
   "cell_type": "code",
   "execution_count": 55,
   "metadata": {},
   "outputs": [],
   "source": [
    "cv=CountVectorizer(max_df=0.85,stop_words='english')\n",
    "df['Reviews'] = [str (item) for item in df['Reviews']]\n",
    "word_count_vector=cv.fit_transform(df['Reviews'])"
   ]
  },
  {
   "cell_type": "code",
   "execution_count": 56,
   "metadata": {},
   "outputs": [
    {
     "data": {
      "text/plain": [
       "['tuned',\n",
       " 'morning',\n",
       " 'news',\n",
       " 'thought',\n",
       " 'wow',\n",
       " 'finally',\n",
       " 'entertainment',\n",
       " 'slightly',\n",
       " 'amusing',\n",
       " 'week']"
      ]
     },
     "execution_count": 56,
     "metadata": {},
     "output_type": "execute_result"
    }
   ],
   "source": [
    "list(cv.vocabulary_.keys())[:10]"
   ]
  },
  {
   "cell_type": "code",
   "execution_count": 57,
   "metadata": {},
   "outputs": [
    {
     "data": {
      "text/plain": [
       "TfidfTransformer(norm='l2', smooth_idf=True, sublinear_tf=False, use_idf=True)"
      ]
     },
     "execution_count": 57,
     "metadata": {},
     "output_type": "execute_result"
    }
   ],
   "source": [
    "from sklearn.feature_extraction.text import TfidfTransformer\n",
    "\n",
    "tfidf_transformer=TfidfTransformer(smooth_idf=True,use_idf=True)\n",
    "tfidf_transformer.fit(word_count_vector)"
   ]
  },
  {
   "cell_type": "markdown",
   "metadata": {},
   "source": [
    "##### [faster version] tfidf directly from reviews column .fit_transform()"
   ]
  },
  {
   "cell_type": "code",
   "execution_count": 4,
   "metadata": {},
   "outputs": [],
   "source": [
    "from sklearn.feature_extraction.text import TfidfVectorizer"
   ]
  },
  {
   "cell_type": "code",
   "execution_count": 5,
   "metadata": {},
   "outputs": [],
   "source": [
    "from sklearn.model_selection import train_test_split"
   ]
  },
  {
   "cell_type": "code",
   "execution_count": 8,
   "metadata": {},
   "outputs": [
    {
     "data": {
      "text/plain": [
       "<bound method NDFrame.head of                                                  Reviews Sentiment\n",
       "0      When I first tuned in on this morning news, I ...       neg\n",
       "1      Mere thoughts of \"Going Overboard\" (aka \"Babes...       neg\n",
       "2      Why does this movie fall WELL below standards?...       neg\n",
       "3      Wow and I thought that any Steven Segal movie ...       neg\n",
       "4      The story is seen before, but that does'n matt...       neg\n",
       "...                                                  ...       ...\n",
       "24995  Everyone plays their part pretty well in this ...       pos\n",
       "24996  It happened with Assault on Prescient 13 in 20...       neg\n",
       "24997  My God. This movie was awful. I can't complain...       neg\n",
       "24998  When I first popped in Happy Birthday to Me, I...       neg\n",
       "24999  So why does this show suck? Unfortunately, tha...       neg\n",
       "\n",
       "[25000 rows x 2 columns]>"
      ]
     },
     "execution_count": 8,
     "metadata": {},
     "output_type": "execute_result"
    }
   ],
   "source": [
    "df.head"
   ]
  },
  {
   "cell_type": "markdown",
   "metadata": {},
   "source": [
    "##### Instantiate the vectorizer object // Create the transform"
   ]
  },
  {
   "cell_type": "markdown",
   "metadata": {},
   "source": [
    "##### max_features: can build a vocabulary that only consider the top max_features ordered by term frequency across the corpus."
   ]
  },
  {
   "cell_type": "code",
   "execution_count": 10,
   "metadata": {},
   "outputs": [],
   "source": [
    "tfidf = TfidfVectorizer(stop_words='english', max_features=5000, max_df = 0.95, min_df = 0.05)"
   ]
  },
  {
   "cell_type": "code",
   "execution_count": 11,
   "metadata": {
    "scrolled": true
   },
   "outputs": [
    {
     "name": "stdout",
     "output_type": "stream",
     "text": [
      "TfidfVectorizer(analyzer='word', binary=False, decode_error='strict',\n",
      "        dtype=<class 'numpy.float64'>, encoding='utf-8', input='content',\n",
      "        lowercase=True, max_df=0.95, max_features=5000, min_df=0.05,\n",
      "        ngram_range=(1, 1), norm='l2', preprocessor=None, smooth_idf=True,\n",
      "        stop_words='english', strip_accents=None, sublinear_tf=False,\n",
      "        token_pattern='(?u)\\\\b\\\\w\\\\w+\\\\b', tokenizer=None, use_idf=True,\n",
      "        vocabulary=None)\n"
     ]
    }
   ],
   "source": [
    "print (tfidf)"
   ]
  },
  {
   "cell_type": "code",
   "execution_count": 12,
   "metadata": {},
   "outputs": [],
   "source": [
    "X = df['Reviews']\n",
    "y = df['Sentiment']"
   ]
  },
  {
   "cell_type": "markdown",
   "metadata": {},
   "source": [
    "##### tfidf.fit_transform cannnot take in integers, so need to convert tokens into strings"
   ]
  },
  {
   "cell_type": "code",
   "execution_count": 13,
   "metadata": {},
   "outputs": [],
   "source": [
    "X = [str (item) for item in X]\n",
    "#X = [item for item in X if not isinstance(item, int)] #gives dimension inconsistency\n",
    "#Y = [item for item in Y if not isinstance(item, int)]"
   ]
  },
  {
   "cell_type": "markdown",
   "metadata": {},
   "source": [
    "##### tokenize and build vocab: Learn vocabulary and idf, return document-term matrix."
   ]
  },
  {
   "cell_type": "code",
   "execution_count": 14,
   "metadata": {},
   "outputs": [],
   "source": [
    "X = tfidf.fit_transform(X)"
   ]
  },
  {
   "cell_type": "code",
   "execution_count": 15,
   "metadata": {},
   "outputs": [
    {
     "name": "stdout",
     "output_type": "stream",
     "text": [
      "{'thought': 215, 'finally': 75, 'face': 65, 'way': 236, 'playing': 162, 'time': 216, 'br': 23, 'woman': 239, 'got': 87, 'bit': 19, 'just': 108, 'really': 173, 'point': 165, 'watch': 233, 'good': 86, 'supposed': 207, 'quite': 170, 'say': 182, 'world': 244, 'best': 16, 'comes': 36, 'believe': 15, 'day': 41, 'young': 253, 'definitely': 44, 'people': 153, 'actually': 6, 'try': 221, 'hard': 91, 'entertaining': 61, 'll': 122, 'long': 123, 'doesn': 52, 'going': 85, 'make': 132, 'want': 230, 'better': 17, 'watching': 235, 'movie': 143, 'bad': 11, 'money': 142, 'does': 51, 'poor': 166, 'script': 187, 'looking': 125, 'black': 20, 'new': 147, 'rest': 177, 'film': 73, 'boring': 22, 'worth': 247, 'fun': 77, 'think': 214, 'plot': 164, 'little': 120, 'did': 46, 'understand': 224, 'like': 116, 'video': 229, 'overall': 152, 'couldn': 38, 'worse': 245, 'wrong': 249, 'story': 204, 'actors': 5, 'lot': 128, 'don': 54, 'girl': 81, 'felt': 72, 'acting': 2, 'years': 251, 'pretty': 167, 'stupid': 205, 'idea': 102, 'characters': 32, 'didn': 47, 'seen': 190, 'director': 50, 'work': 243, 'far': 69, 'look': 124, 'read': 171, 'camera': 27, 'stars': 202, 'mean': 137, 'right': 178, 'away': 9, 'come': 34, 'use': 225, 'start': 203, 'certainly': 30, 'interesting': 104, 'real': 172, 'reason': 174, 'fan': 68, 'fact': 66, 'recommend': 175, 'yes': 252, 'went': 237, 'play': 160, 'isn': 105, 'character': 31, 'things': 213, 'goes': 84, 'thing': 212, 'friends': 76, 'trying': 222, 'doing': 53, 'course': 40, 'know': 111, 'makes': 133, 'music': 145, 'place': 159, 'instead': 103, 'getting': 80, 'beautiful': 13, 'love': 129, 'line': 118, 'women': 240, 'tell': 210, 'gets': 79, 'having': 92, 'men': 138, 'funny': 78, 'minutes': 140, 'perfect': 154, 'audience': 8, 'guy': 89, 'watched': 234, 'films': 74, 'truly': 220, 'end': 58, 'series': 192, 'american': 7, 'cast': 29, 'shot': 195, 'big': 18, 'given': 82, 'night': 149, 'terrible': 211, 'wasn': 231, 'main': 131, 'probably': 168, '10': 0, 'classic': 33, 'won': 241, 'completely': 37, 'great': 88, 'excellent': 64, 'absolutely': 1, 'gives': 83, 'feel': 71, 'especially': 63, 'based': 12, 'comedy': 35, 'book': 21, 'takes': 209, 'job': 106, 'title': 218, 'played': 161, 'short': 194, 'high': 95, 'moments': 141, 'performance': 155, 'saw': 181, 'low': 130, 'man': 135, 'wonderful': 242, 'hollywood': 96, 'lines': 119, 'entire': 62, 'early': 56, 'used': 226, 'second': 188, 'production': 169, 'seeing': 189, 'scenes': 184, 'worst': 246, 'ending': 59, 'hope': 98, 'sense': 191, 'life': 115, 'set': 193, 'scene': 183, 'piece': 158, 'nice': 148, 'sure': 208, 'different': 48, 'shows': 196, 'maybe': 136, 'dead': 42, 'screen': 186, 'dialogue': 45, 'plays': 163, 'awful': 10, 'tv': 223, 'simply': 197, 'kids': 109, 'school': 185, 'said': 180, 'remember': 176, 'need': 146, 'version': 228, 'dvd': 55, 'year': 250, 'left': 113, 'action': 3, 'later': 112, 'actor': 4, 'case': 28, 'movies': 144, 'family': 67, 'role': 179, 'couple': 39, 'wife': 238, 've': 227, 'looks': 126, 'lost': 127, 'making': 134, 'effects': 57, 'original': 151, 'enjoy': 60, 'house': 100, 'waste': 232, 'true': 219, 'performances': 156, 'mind': 139, 'let': 114, 'direction': 49, 'small': 198, 'father': 70, 'kind': 110, 'style': 206, 'special': 200, 'old': 150, 'written': 248, 'times': 217, 'budget': 24, 'live': 121, 'liked': 117, 'horror': 99, 'head': 93, 'star': 201, 'person': 157, 'death': 43, 'called': 25, 'half': 90, 'came': 26, 'sort': 199, 'home': 97, 'beginning': 14, 'john': 107, 'human': 101, 'help': 94}\n"
     ]
    }
   ],
   "source": [
    "print(tfidf.vocabulary_)"
   ]
  },
  {
   "cell_type": "markdown",
   "metadata": {},
   "source": [
    "##### Train Test splitting"
   ]
  },
  {
   "cell_type": "code",
   "execution_count": 17,
   "metadata": {},
   "outputs": [],
   "source": [
    "X_train, X_Test, y_train, y_test = train_test_split(X, y, test_size = 0.2, random_state=0)"
   ]
  },
  {
   "cell_type": "markdown",
   "metadata": {},
   "source": [
    "#### [IGNORE] Using LinearSVC"
   ]
  },
  {
   "cell_type": "code",
   "execution_count": null,
   "metadata": {},
   "outputs": [],
   "source": [
    "from sklearn.metrics import classification_report"
   ]
  },
  {
   "cell_type": "code",
   "execution_count": null,
   "metadata": {},
   "outputs": [],
   "source": [
    "from sklearn.svm import LinearSVC"
   ]
  },
  {
   "cell_type": "code",
   "execution_count": 18,
   "metadata": {},
   "outputs": [
    {
     "data": {
      "text/plain": [
       "LinearSVC(C=1.0, class_weight=None, dual=True, fit_intercept=True,\n",
       "     intercept_scaling=1, loss='squared_hinge', max_iter=1000,\n",
       "     multi_class='ovr', penalty='l2', random_state=None, tol=0.0001,\n",
       "     verbose=0)"
      ]
     },
     "execution_count": 18,
     "metadata": {},
     "output_type": "execute_result"
    }
   ],
   "source": [
    "clf = LinearSVC()\n",
    "clf.fit(X_train, y_train)"
   ]
  },
  {
   "cell_type": "code",
   "execution_count": 19,
   "metadata": {},
   "outputs": [],
   "source": [
    "y_pred = clf.predict(X_Test)"
   ]
  },
  {
   "cell_type": "code",
   "execution_count": 20,
   "metadata": {},
   "outputs": [
    {
     "name": "stdout",
     "output_type": "stream",
     "text": [
      "              precision    recall  f1-score   support\n",
      "\n",
      "         neg       0.81      0.79      0.80      2480\n",
      "         pos       0.80      0.82      0.81      2520\n",
      "\n",
      "   micro avg       0.80      0.80      0.80      5000\n",
      "   macro avg       0.80      0.80      0.80      5000\n",
      "weighted avg       0.80      0.80      0.80      5000\n",
      "\n"
     ]
    }
   ],
   "source": [
    "print(classification_report(y_test, y_pred))"
   ]
  },
  {
   "cell_type": "markdown",
   "metadata": {},
   "source": [
    "#### Using KNN"
   ]
  },
  {
   "cell_type": "code",
   "execution_count": 21,
   "metadata": {},
   "outputs": [],
   "source": [
    "from sklearn.neighbors import KNeighborsClassifier"
   ]
  },
  {
   "cell_type": "code",
   "execution_count": 22,
   "metadata": {},
   "outputs": [],
   "source": [
    "model = KNeighborsClassifier(n_neighbors=2)"
   ]
  },
  {
   "cell_type": "code",
   "execution_count": 23,
   "metadata": {},
   "outputs": [
    {
     "data": {
      "text/plain": [
       "KNeighborsClassifier(algorithm='auto', leaf_size=30, metric='minkowski',\n",
       "           metric_params=None, n_jobs=None, n_neighbors=2, p=2,\n",
       "           weights='uniform')"
      ]
     },
     "execution_count": 23,
     "metadata": {},
     "output_type": "execute_result"
    }
   ],
   "source": [
    "model.fit(X_train, y_train) #Fitting model on entire dataset X"
   ]
  },
  {
   "cell_type": "code",
   "execution_count": 24,
   "metadata": {},
   "outputs": [],
   "source": [
    "y_pred = model.predict(X_Test) # Predicting"
   ]
  },
  {
   "cell_type": "code",
   "execution_count": 29,
   "metadata": {},
   "outputs": [
    {
     "name": "stdout",
     "output_type": "stream",
     "text": [
      "['neg' 'neg' 'neg' ... 'neg' 'neg' 'neg']\n"
     ]
    }
   ],
   "source": [
    "print(y_pred)"
   ]
  },
  {
   "cell_type": "markdown",
   "metadata": {},
   "source": [
    "#### Evaluate the predictions using Classification Report"
   ]
  },
  {
   "cell_type": "code",
   "execution_count": 25,
   "metadata": {
    "scrolled": false
   },
   "outputs": [
    {
     "name": "stdout",
     "output_type": "stream",
     "text": [
      "              precision    recall  f1-score   support\n",
      "\n",
      "         neg       0.59      0.83      0.69      2480\n",
      "         pos       0.72      0.43      0.54      2520\n",
      "\n",
      "   micro avg       0.63      0.63      0.63      5000\n",
      "   macro avg       0.65      0.63      0.61      5000\n",
      "weighted avg       0.65      0.63      0.61      5000\n",
      "\n"
     ]
    }
   ],
   "source": [
    "print(classification_report(y_test, y_pred))"
   ]
  },
  {
   "cell_type": "code",
   "execution_count": 26,
   "metadata": {},
   "outputs": [
    {
     "data": {
      "text/plain": [
       "sklearn.neighbors.classification.KNeighborsClassifier"
      ]
     },
     "execution_count": 26,
     "metadata": {},
     "output_type": "execute_result"
    }
   ],
   "source": [
    "type(model)"
   ]
  },
  {
   "cell_type": "code",
   "execution_count": 28,
   "metadata": {},
   "outputs": [
    {
     "name": "stdout",
     "output_type": "stream",
     "text": [
      "Accuracy - test set: 62.76%\n"
     ]
    }
   ],
   "source": [
    "result = model.score(X_Test, y_test)\n",
    "print(\"Accuracy - test set: %.2f%%\" % (result*100.0))"
   ]
  },
  {
   "cell_type": "markdown",
   "metadata": {},
   "source": [
    "##### Confusion matrix"
   ]
  },
  {
   "cell_type": "code",
   "execution_count": 30,
   "metadata": {},
   "outputs": [],
   "source": [
    "from sklearn.metrics import confusion_matrix"
   ]
  },
  {
   "cell_type": "code",
   "execution_count": 32,
   "metadata": {},
   "outputs": [],
   "source": [
    "# Print out confusion matrix\n",
    "cmat = confusion_matrix(y_test, y_pred)"
   ]
  },
  {
   "cell_type": "code",
   "execution_count": 33,
   "metadata": {},
   "outputs": [
    {
     "name": "stdout",
     "output_type": "stream",
     "text": [
      "TP - True Negative 2054\n",
      "FP - False Positive 426\n",
      "FN - False Negative 1436\n",
      "TP - True Positive 1084\n",
      "Accuracy Rate: 0.6276\n",
      "Misclassification Rate: 0.3724\n"
     ]
    }
   ],
   "source": [
    "#print(cmat)\n",
    "print('TP - True Negative {}'.format(cmat[0,0]))\n",
    "print('FP - False Positive {}'.format(cmat[0,1]))\n",
    "print('FN - False Negative {}'.format(cmat[1,0]))\n",
    "print('TP - True Positive {}'.format(cmat[1,1]))\n",
    "print('Accuracy Rate: {}'.format(np.divide(np.sum([cmat[0,0],cmat[1,1]]),np.sum(cmat))))\n",
    "print('Misclassification Rate: {}'.format(np.divide(np.sum([cmat[0,1],cmat[1,0]]),np.sum(cmat))))"
   ]
  },
  {
   "cell_type": "markdown",
   "metadata": {},
   "source": [
    "##### Evaluate alternative K values"
   ]
  },
  {
   "cell_type": "code",
   "execution_count": 44,
   "metadata": {},
   "outputs": [],
   "source": [
    "error_rate = []\n",
    "for i in range(1,20):\n",
    "    \n",
    "    knn = KNeighborsClassifier(n_neighbors=i)\n",
    "    knn.fit(X_train, y_train)\n",
    "    pred_i = knn.predict(X_Test)\n",
    "    error_rate.append(np.mean(pred_i != y_test))"
   ]
  },
  {
   "cell_type": "code",
   "execution_count": 42,
   "metadata": {},
   "outputs": [],
   "source": [
    "from matplotlib.pyplot import *\n",
    "import matplotlib.pyplot as plt"
   ]
  },
  {
   "cell_type": "code",
   "execution_count": 46,
   "metadata": {
    "scrolled": true
   },
   "outputs": [
    {
     "data": {
      "text/plain": [
       "Text(0, 0.5, 'Error Rate')"
      ]
     },
     "execution_count": 46,
     "metadata": {},
     "output_type": "execute_result"
    },
    {
     "data": {
      "image/png": "[encoded data removed]",
      "text/plain": [
       "<Figure size 720x288 with 1 Axes>"
      ]
     },
     "metadata": {
      "needs_background": "light"
     },
     "output_type": "display_data"
    }
   ],
   "source": [
    "# Configure and plot error rate over k values\n",
    "plt.figure(figsize=(10,4))\n",
    "plt.plot(range(1,20), error_rate, color='blue', linestyle='dashed', marker='o', markerfacecolor='red', markersize=10)\n",
    "plt.title('Error Rate vs. K-Values')\n",
    "plt.xlabel('K-Values')\n",
    "plt.ylabel('Error Rate')"
   ]
  },
  {
   "cell_type": "code",
   "execution_count": 47,
   "metadata": {},
   "outputs": [],
   "source": [
    "knn = KNeighborsClassifier(n_neighbors=13)\n",
    "knn.fit(X_train, y_train)\n",
    "pred = knn.predict(X_Test)"
   ]
  },
  {
   "cell_type": "code",
   "execution_count": 48,
   "metadata": {},
   "outputs": [
    {
     "name": "stdout",
     "output_type": "stream",
     "text": [
      "              precision    recall  f1-score   support\n",
      "\n",
      "         neg       0.70      0.73      0.71      2480\n",
      "         pos       0.72      0.70      0.71      2520\n",
      "\n",
      "   micro avg       0.71      0.71      0.71      5000\n",
      "   macro avg       0.71      0.71      0.71      5000\n",
      "weighted avg       0.71      0.71      0.71      5000\n",
      "\n"
     ]
    }
   ],
   "source": [
    "# Print out classification report and confusion matrix\n",
    "print(classification_report(y_test, pred))"
   ]
  },
  {
   "cell_type": "code",
   "execution_count": 49,
   "metadata": {},
   "outputs": [
    {
     "name": "stdout",
     "output_type": "stream",
     "text": [
      "TP - True Negative 1803\n",
      "FP - False Positive 677\n",
      "FN - False Negative 762\n",
      "TP - True Positive 1758\n",
      "Accuracy Rate: 0.7122\n",
      "Misclassification Rate: 0.2878\n"
     ]
    }
   ],
   "source": [
    "# Print out confusion matrix\n",
    "cmat = confusion_matrix(y_test, pred)\n",
    "#print(cmat)\n",
    "print('TP - True Negative {}'.format(cmat[0,0]))\n",
    "print('FP - False Positive {}'.format(cmat[0,1]))\n",
    "print('FN - False Negative {}'.format(cmat[1,0]))\n",
    "print('TP - True Positive {}'.format(cmat[1,1]))\n",
    "print('Accuracy Rate: {}'.format(np.divide(np.sum([cmat[0,0],cmat[1,1]]),np.sum(cmat))))\n",
    "print('Misclassification Rate: {}'.format(np.divide(np.sum([cmat[0,1],cmat[1,0]]),np.sum(cmat))))"
   ]
  }
 ],
 "metadata": {
  "kernelspec": {
   "display_name": "Python 3",
   "language": "python",
   "name": "python3"
  },
  "language_info": {
   "codemirror_mode": {
    "name": "ipython",
    "version": 3
   },
   "file_extension": ".py",
   "mimetype": "text/x-python",
   "name": "python",
   "nbconvert_exporter": "python",
   "pygments_lexer": "ipython3",
   "version": "3.7.2"
  }
 },
 "nbformat": 4,
 "nbformat_minor": 2
}
